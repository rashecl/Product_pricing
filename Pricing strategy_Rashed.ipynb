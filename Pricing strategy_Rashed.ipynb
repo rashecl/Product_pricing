{
 "cells": [
  {
   "cell_type": "markdown",
   "metadata": {},
   "source": [
    "# Pricing Test \n",
    "\n",
    "## Goal \n",
    "Pricing optimization is, non surprisingly, another area where data science can provide huge value. \n",
    "The goal here is to evaluate whether a pricing test running on the site has been successful. As always, you should focus on user segmentation and provide insights about segments who behave differently as well as any other insights you might find. \n",
    "\n",
    "## Challenge Description \n",
    "Company XYZ sells a software for 39 dollars. Since revenue has been flat for some time, the VP of Product has decided to run a test increasing the price. She hopes that this would increase revenue. In the experiment, 66 percent of the users have seen the old price (39 dollars), while a random sample of 33 percent users a higher price (59 dollars). \n",
    "The test has been running for some time and the VP of Product is interested in understanding how it went and whether it would make sense to increase the price for all the users. \n",
    "Especially he asked you the following questions: <br>\n",
    "1) Should the company sell its software for 39 or 59 dollars? \n",
    "\n",
    "The VP of Product is interested in having a holistic view into user behavior, especially focusing on actionable insights that might increase conversion rate. What are your main findings looking at the data? \n",
    "\n",
    "**Bonus:**<br>\n",
    "2) The VP of Product feels that the test has been running for too long and he should have been able to get statistically significant results in a shorter time. Do you agree with her intuition? After how many days you would have stopped the test? Please, explain why. \n"
   ]
  },
  {
   "cell_type": "code",
   "execution_count": 846,
   "metadata": {},
   "outputs": [],
   "source": [
    "import pandas as pd\n",
    "import dtale as dtale\n",
    "import numpy as np\n",
    "from matplotlib import pyplot as plt\n",
    "from matplotlib import dates as dates\n",
    "import seaborn as sns\n",
    "import bqplot as bqplot\n",
    "from bqplot import pyplot as plt2\n",
    "from scipy import stats\n",
    "from datetime import datetime as dt"
   ]
  },
  {
   "cell_type": "code",
   "execution_count": 624,
   "metadata": {},
   "outputs": [],
   "source": [
    "test_results = pd.read_csv('./Pricing_Test_data/test_results.csv')\n",
    "user_table= pd.read_csv('./Pricing_Test_data/user_table.csv')"
   ]
  },
  {
   "cell_type": "markdown",
   "metadata": {},
   "source": [
    "### Data validation\n",
    "First, we want to look at the data to see what we're working with. Dtale provides an excel-like interface for scrolling and sorting our data frames:"
   ]
  },
  {
   "cell_type": "code",
   "execution_count": 748,
   "metadata": {
    "scrolled": false
   },
   "outputs": [
    {
     "data": {
      "text/html": [
       "\n",
       "        <iframe\n",
       "            width=\"100%\"\n",
       "            height=\"475\"\n",
       "            src=\"http://localhost:40000/dtale/iframe/5\"\n",
       "            frameborder=\"0\"\n",
       "            allowfullscreen\n",
       "        ></iframe>\n",
       "        "
      ],
      "text/plain": [
       "<IPython.lib.display.IFrame at 0x148266d68>"
      ]
     },
     "metadata": {},
     "output_type": "display_data"
    },
    {
     "data": {
      "text/plain": []
     },
     "execution_count": 748,
     "metadata": {},
     "output_type": "execute_result"
    }
   ],
   "source": [
    "dtale.show(user_table, ignore_duplicate=True)"
   ]
  },
  {
   "cell_type": "code",
   "execution_count": 626,
   "metadata": {
    "scrolled": true
   },
   "outputs": [
    {
     "data": {
      "text/html": [
       "\n",
       "        <iframe\n",
       "            width=\"100%\"\n",
       "            height=\"475\"\n",
       "            src=\"http://localhost:40000/dtale/iframe/2\"\n",
       "            frameborder=\"0\"\n",
       "            allowfullscreen\n",
       "        ></iframe>\n",
       "        "
      ],
      "text/plain": [
       "<IPython.lib.display.IFrame at 0x14f8de320>"
      ]
     },
     "metadata": {},
     "output_type": "display_data"
    },
    {
     "data": {
      "text/plain": []
     },
     "execution_count": 626,
     "metadata": {},
     "output_type": "execute_result"
    }
   ],
   "source": [
    "dtale.show(test_results, ignore_duplicate=True)"
   ]
  },
  {
   "cell_type": "markdown",
   "metadata": {},
   "source": [
    "One thing I noticed is that user_id is probably not unique to each individual. If you sort by timestamps, you'll see many duplicated rows. Therefore, you can drop the user_id columns and drop duplicated rows (asuming the same timestamp is very unlikely to have the same source, device, operating_system, test, and conversion fields)"
   ]
  },
  {
   "cell_type": "code",
   "execution_count": 627,
   "metadata": {
    "scrolled": true
   },
   "outputs": [
    {
     "name": "stdout",
     "output_type": "stream",
     "text": [
      "Original shape of test_results:  (316800, 8)\n",
      "New shape of test_results:  (143480, 7)\n"
     ]
    }
   ],
   "source": [
    "print('Original shape of test_results: ' , test_results.shape)\n",
    "test_results = test_results.drop(columns = ['user_id'])\n",
    "test_results.drop_duplicates(inplace = True)\n",
    "print('New shape of test_results: ' , test_results.shape)"
   ]
  },
  {
   "cell_type": "markdown",
   "metadata": {},
   "source": [
    "It's often helpful to see the data types and counts of unique values in each column. This allows us to see if we have duplicates where they aren't expected. The function below allows us to do that:"
   ]
  },
  {
   "cell_type": "code",
   "execution_count": 630,
   "metadata": {},
   "outputs": [
    {
     "name": "stdout",
     "output_type": "stream",
     "text": [
      "<class 'pandas.core.frame.DataFrame'>\n",
      "Int64Index: 143480 entries, 0 to 316793\n",
      "Data columns (total 7 columns):\n",
      "timestamp           143480 non-null object\n",
      "source              143480 non-null object\n",
      "device              143480 non-null object\n",
      "operative_system    143480 non-null object\n",
      "test                143480 non-null int64\n",
      "price               143480 non-null int64\n",
      "converted           143480 non-null int64\n",
      "dtypes: int64(3), object(4)\n",
      "memory usage: 8.8+ MB\n",
      "None\n",
      "\t value \t count\n",
      "0: timestamp\n",
      "\t 2015-05-30 10:02:09: 3\n",
      "\t 2015-05-16 12:35:56: 3\n",
      "\t 2015-04-03 12:26:44: 3\n",
      "\t 2015-03-27 16:42:23: 3\n",
      "\t 2015-04-25 12:05:19: 3\n",
      "\t 2015-05-23 09:38:21: 3\n",
      "\t 2015-05-30 11:28:45: 3\n",
      "\t 2015-04-17 12:53:16: 3\n",
      "\t 2015-04-11 11:23:54: 3\n",
      "\t 2015-05-08 09:20:13: 3\n",
      "\t ...\n",
      "\t 2015-04-03 10:43:43: 1\n",
      "\t 2015-03-14 12:49:11: 1\n",
      "\t 2015-04-18 21:13:04: 1\n",
      "\t 2015-03-06 16:03:55: 1\n",
      "\t 2015-03-08 10:26:08: 1\n",
      "\t 2015-04-17 10:09:06: 1\n",
      "\t 2015-05-08 14:11:18: 1\n",
      "\t 2015-04-19 09:36:38: 1\n",
      "\t 2015-05-04 11:26:14: 1\n",
      "\t 2015-03-08 12:40:58: 1\n",
      "1: source\n",
      "\t direct_traffic: 27224\n",
      "\t ads-google: 26990\n",
      "\t ads_facebook: 24178\n",
      "\t ads_other: 13548\n",
      "\t seo-google: 10516\n",
      "\t ads-bing: 10190\n",
      "\t friend_referral: 9663\n",
      "\t seo_facebook: 9520\n",
      "\t seo-other: 4164\n",
      "\t ads-yahoo: 3435\n",
      "\t seo-yahoo: 3059\n",
      "\t seo-bing: 993\n",
      "2: device\n",
      "\t mobile: 84557\n",
      "\t web: 58923\n",
      "3: operative_system\n",
      "\t windows: 45560\n",
      "\t iOS: 43549\n",
      "\t android: 33828\n",
      "\t mac: 11472\n",
      "\t other: 7235\n",
      "\t linux: 1836\n",
      "4: test\n",
      "\t 0: 92084\n",
      "\t 1: 51396\n",
      "5: price\n",
      "\t 39: 92065\n",
      "\t 59: 51415\n",
      "6: converted\n",
      "\t 0: 137672\n",
      "\t 1: 5808\n"
     ]
    }
   ],
   "source": [
    "def printDFCounts(df, pLim = 12, allowHist = False):\n",
    "    \"\"\" Shows all the unique elements in each column of a dataframe.\n",
    "    pLim : (numeric) print limit - max number of rows to print for each feature\n",
    "    allowHist : (boolean) allow binned counts of features when the # of unique feaures > pLim\n",
    "    (e.g. when feature is continuous)\n",
    "    Note: allowHist only works for numeric data.\n",
    "    EX. printDFCounts(df = df, pLim = 25, allowHist = True)\n",
    "    \"\"\"\n",
    "    print(df.info())\n",
    "    featureCounts = []\n",
    "    for feature in df.columns:\n",
    "        value_counts = df[feature].value_counts()\n",
    "        currFeature = dict(zip(list(value_counts.keys()), list(value_counts.values)))\n",
    "        featureCounts.append(currFeature)\n",
    "\n",
    "    print('\\t value \\t count')\n",
    "    for f in range(len(df.columns)):\n",
    "        print('{}: {}'.format(f,df.columns[f]))\n",
    "    #     print('\\t _____ \\t _____' )\n",
    "        if len(featureCounts[f].keys()) > pLim:\n",
    "            if allowHist:\n",
    "                feature = df.columns[f]\n",
    "                edges = np.histogram(df[feature])[1]\n",
    "                binWidth = np.diff(edges)[0]\n",
    "                counts = np.histogram(df[feature])[0]\n",
    "                keys = [str('%.1f'%edge) + ' - ' + str('%.1f'%(edge+binWidth)) for edge in edges[:-1]]\n",
    "                print('\\n'.join('\\t {}: {}'.format(*k) for k in zip(keys,counts)))\n",
    "            else:\n",
    "                keys = list(featureCounts[f].keys())[0:pLim//2]\n",
    "                counts = list(featureCounts[f].values())[0:pLim//2]\n",
    "                print('\\n'.join('\\t {}: {}'.format(*k) for k in zip(keys,counts)))\n",
    "                print('\\t ...')\n",
    "                keys = list(featureCounts[f].keys())[-pLim//2:]\n",
    "                counts = list(featureCounts[f].values())[-pLim//2:]\n",
    "                print('\\n'.join('\\t {}: {}'.format(*k) for k in zip(keys,counts)))\n",
    "        else:\n",
    "            keys = list(featureCounts[f].keys())\n",
    "            counts = list(featureCounts[f].values())\n",
    "            print('\\n'.join('\\t {}: {}'.format(*k) for k in zip(keys,counts)))\n",
    "    return\n",
    "\n",
    "printDFCounts(test_results, pLim = 20, allowHist = False)"
   ]
  },
  {
   "cell_type": "markdown",
   "metadata": {},
   "source": [
    "We can also see that about 1/3 of users saw the higher price as mentioned in the problem statement."
   ]
  },
  {
   "cell_type": "markdown",
   "metadata": {},
   "source": [
    "Several labels were mixed up, such that 'test = 0' corresponded to 'price = 59' and 'test = 1' corresponded to 'price = 39'. \n",
    "\n",
    "Therefore, we should drop those indecies:"
   ]
  },
  {
   "cell_type": "code",
   "execution_count": 682,
   "metadata": {
    "scrolled": true
   },
   "outputs": [
    {
     "name": "stdout",
     "output_type": "stream",
     "text": [
      "Original test resuts length: 143480\n",
      "New test resuts length: 143384\n"
     ]
    }
   ],
   "source": [
    "dropIdxs = test_results[(test_results['price'] == 59) & (test_results['test'] == 0)].index\n",
    "dropIdxs.append(test_results[(test_results['price'] == 39) & (test_results['test'] == 1)].index)\n",
    "print('Original test resuts length:', test_results.shape[0])\n",
    "df = test_results.drop(dropIdxs)\n",
    "print('New test resuts length:', df.shape[0])"
   ]
  },
  {
   "cell_type": "markdown",
   "metadata": {},
   "source": [
    "Lastly, I'll convert the timestamp strings to dates so the dates: "
   ]
  },
  {
   "cell_type": "code",
   "execution_count": 683,
   "metadata": {},
   "outputs": [
    {
     "name": "stdout",
     "output_type": "stream",
     "text": [
      "CPU times: user 175 ms, sys: 12.6 ms, total: 188 ms\n",
      "Wall time: 155 ms\n"
     ]
    }
   ],
   "source": [
    "%%time\n",
    "# First convert the timestamps to dates\n",
    "df['timestamp'] = df['timestamp'].apply(lambda x: np.datetime64(x[0:10]))\n",
    "df = df.sort_values(by='timestamp').reset_index(drop=True)\n",
    "df_clean = df.copy() # We'll use this later"
   ]
  },
  {
   "cell_type": "markdown",
   "metadata": {},
   "source": [
    "## Data analysis\n",
    "Cacluate probablilty of conversion in the control and test groups:"
   ]
  },
  {
   "cell_type": "code",
   "execution_count": 684,
   "metadata": {
    "scrolled": true
   },
   "outputs": [
    {
     "name": "stdout",
     "output_type": "stream",
     "text": [
      "Conversion probablity ± 95% CI:\n",
      "Control: 0.04381 ± 0.00132\n",
      "Test: 0.03450 ± 0.00177\n"
     ]
    }
   ],
   "source": [
    "n_con = df.query('test == 0').shape[0]\n",
    "n_test = df.query('test == 1').shape[0]\n",
    "\n",
    "p_con = df.query('test == 0').converted.sum()/n_con\n",
    "p_test = df.query('test == 1').converted.sum()/n_test\n",
    "\n",
    "# Calculate 95% confidence intervals:\n",
    "n, p = n_con, p_con\n",
    "CI_con = np.sqrt((p*(1-p))/n) * 1.96\n",
    "n, p = n_test, p_con\n",
    "CI_test = np.sqrt((p*(1-p))/n) * 1.96\n",
    "\n",
    "print('Conversion probablity ± 95% CI:')\n",
    "print('Control: {:.5f} ± {:.5f}'.format(p_con, CI_con))\n",
    "print('Test: {:.5f} ± {:.5f}'.format(p_test, CI_test))"
   ]
  },
  {
   "cell_type": "markdown",
   "metadata": {},
   "source": [
    "The probabilty of conversion decreases when we increase the price. <br>\n",
    "What actually matters is how the expected revenue per person changes according to the pricing strategies:"
   ]
  },
  {
   "cell_type": "code",
   "execution_count": 685,
   "metadata": {},
   "outputs": [
    {
     "name": "stdout",
     "output_type": "stream",
     "text": [
      "95% CI for expected revenue per person (ERPP):\n",
      "Control: 1.66 - 1.76\n",
      "Test: 1.93 - 2.14\n"
     ]
    },
    {
     "data": {
      "image/png": "[encoded data removed]",
      "text/plain": [
       "<Figure size 432x288 with 1 Axes>"
      ]
     },
     "metadata": {
      "needs_background": "light"
     },
     "output_type": "display_data"
    }
   ],
   "source": [
    "# Calculate 95% confidence intervals for revenue per person:\n",
    "print('95% CI for expected revenue per person (ERPP):')\n",
    "print('Control: {:.2f} - {:.2f}'.format((p_con-CI_con)*39, (p_con+CI_con)*39) )\n",
    "print('Test: {:.2f} - {:.2f}'.format((p_test-CI_test)*59, (p_test+CI_test)*59) )\n",
    "\n",
    "plt.errorbar([0,1], [p_con*39, p_test*59],yerr=[CI_con*39, CI_test*59], marker = 'o', linestyle= '')\n",
    "plt.title('Estimated revenue per person')\n",
    "plt.ylabel('Revenue per person')\n",
    "plt.xlabel('Test')\n",
    "plt.xticks([0,1])\n",
    "plt.show()\n"
   ]
  },
  {
   "cell_type": "markdown",
   "metadata": {},
   "source": [
    "We can be confident that the test yields signifcant increases in the ERPP since the errorbars don't overlap. <br>\n",
    "There are several statistical tests we can utilize to see if we should utilize the new pricing strategy:"
   ]
  },
  {
   "cell_type": "markdown",
   "metadata": {},
   "source": [
    "### A) One-sided t-test:\n",
    "Purpose: To determine if the ERPP increases with the new pricing strategy. <br>\n",
    "<br>\n",
    "While the underlying data violates the assumption for a t-test that samples are normally distributed, the t-test is often used with data that isn't normally distributed. The data here is simply proportions weighted by the prices. I fourn that: \n",
    "\"The t-test is basically not valid for testing the difference between two proportions. However, the t-test in proportions has been extensively studied, has been found to be robust, and is widely and successfully used in proportional data. With one exception: if one of the proportions is very close to zero, one or minus one, you will do better with Fisher’s exact test.\" \n",
    "https://www.quantitativeskills.com/sisa/statistics/t-thlp.htm <br> \n",
    "I think these proportions are close to zero so this may not be the best strategy...\n"
   ]
  },
  {
   "cell_type": "code",
   "execution_count": 686,
   "metadata": {},
   "outputs": [
    {
     "data": {
      "text/plain": [
       "Ttest_indResult(statistic=6.534260160953018, pvalue=6.413766814068827e-11)"
      ]
     },
     "execution_count": 686,
     "metadata": {},
     "output_type": "execute_result"
    }
   ],
   "source": [
    "a = df.query('test == 0').converted*39\n",
    "b = df.query('test == 1').converted*59\n",
    "stats.ttest_ind(b,a)"
   ]
  },
  {
   "cell_type": "markdown",
   "metadata": {},
   "source": [
    "Since the t-statistic > 1.64 (the critcal value for one-sided t-test), this indicates that ERPP increases with the new pricing strategy."
   ]
  },
  {
   "cell_type": "markdown",
   "metadata": {},
   "source": [
    "## B)  Z-test of proportions \n",
    "\n",
    "We already know there are differences in the conversion rates, but what is ultimately important is that the new pricing strategy doesn't decrease conversion rate so much that it decreases ERPP. \n",
    "\n",
    "We can take a liberal estimate of the control conversion rate of 0.04513 (0.04381 + 0.00132), which is the upper limit of the 95% CI. Then, we can calculate the conversion rate under the new pricing strategy at which point we would break even:"
   ]
  },
  {
   "cell_type": "code",
   "execution_count": 687,
   "metadata": {},
   "outputs": [
    {
     "name": "stdout",
     "output_type": "stream",
     "text": [
      "Break even conversion rate: 0.02983\n"
     ]
    }
   ],
   "source": [
    "r = 0.04513 * 39/59\n",
    "print('Break even conversion rate: {:.5f}'.format(r))"
   ]
  },
  {
   "cell_type": "markdown",
   "metadata": {},
   "source": [
    "We'll then use the one-sample Z-test of proportions to see if the test conversion rate is greater than the breakeven conversion rate. Anything greater than the breakeven rate would yield a higer ERPP, which we already kind of know is true based on the confidence intervals we calculated earlier. <br>\n",
    "<br>\n",
    "\n",
    "<center> $Z_{statisic} = \\frac{p - r} {\\sqrt{\\frac{p*q}{n}}}$ <br>\n",
    ", where r is the liberal estimate for the breakeven conversion rate.</center>"
   ]
  },
  {
   "cell_type": "code",
   "execution_count": 688,
   "metadata": {},
   "outputs": [
    {
     "data": {
      "text/plain": [
       "5.795140965057808"
      ]
     },
     "execution_count": 688,
     "metadata": {},
     "output_type": "execute_result"
    }
   ],
   "source": [
    "z = (p_test-r)/np.sqrt(p_test * (1-p_test) * (1/n_test))\n",
    "z"
   ]
  },
  {
   "cell_type": "markdown",
   "metadata": {},
   "source": [
    "Since z > 1.645 we know that the test conversion rate is greater than the breakeven conversion rate (p<0.05). <br>\n",
    "**Answer 1:** The new pricing strategy increased ERPP so the price should be set to $59. "
   ]
  },
  {
   "cell_type": "markdown",
   "metadata": {},
   "source": [
    "### Power calculations\n",
    "\n",
    "The last question concerns how long should the test be run. The approach I took was to perform a sample size calculation for a 'noninferiority study' where we would ensure we have enough power to detect changes in conversion rate that would negatively impact revenue.\n",
    "\n",
    "To put this another way, we want to ensure that our intervention does not negatively impact revenue which would happen when the conversion rate (liberal estimate: 0.0205) decreases below the breakeven rate (0.02983).\n",
    "So the difference we are trying to detect is: 0.04513 - 0.02983 = 0.0153 <br>\n",
    "*(Note: This power calculation assumes we know control conversion rate)*\n",
    "<br>\n",
    "<br>\n",
    "We'll use this formula to calculate the sample size for the test group:\n",
    "(Note we are just assuming the control group has a 0.0205 conversion rate, which was the liberal estimate).\n",
    "<center>\n",
    "$ n = (Z_{α/2}+Z_β)^2 * \\frac{2*p*q}{(p-0.04513)^2}$ <br>\n",
    "</center>\n",
    "where $Z_{α/2}$ is the critical Z value for the two-sided test (1.96 when ⍺ = .05), * <br>\n",
    "and $Z_{β}$ is the critical Z value related to 𝛽 (the false negative rate), which is often chosen to be 0.2, but we'll use .1 so that we have lower potential false negative rate : $Z_{.1}$ = 1.281. \n",
    "\n",
    "<br>* Even though we are doing a one-sided test, I think it's good to conduct the A/B test where we have sufficient power to detect changes in proportion of 0.0153 magnitude or greater in either direction. If anything, this will increase the power of our A/B test."
   ]
  },
  {
   "cell_type": "code",
   "execution_count": 689,
   "metadata": {},
   "outputs": [
    {
     "name": "stdout",
     "output_type": "stream",
     "text": [
      "Number of samples needed in the test group: 2599\n"
     ]
    }
   ],
   "source": [
    "n = (1.96 + 1.282)**2 * 2*(0.02983*(1-0.02983)/(0.04513 - 0.02983)**2)\n",
    "print('Number of samples needed in the test group: {:.0f}'.format(n))"
   ]
  },
  {
   "cell_type": "markdown",
   "metadata": {},
   "source": [
    "Earlier, we saw that there were *way* more than 2599 test samples, so we were definitely overpowered:\n",
    "\n",
    "test | Count <br>\n",
    "------------- <br>\n",
    "0    | 92084 <br>\n",
    "1    | 51396 <br>\n",
    "\n",
    "\n",
    "So the question is how did it take to collect ~2600 test samples? "
   ]
  },
  {
   "cell_type": "code",
   "execution_count": 690,
   "metadata": {
    "scrolled": false
   },
   "outputs": [
    {
     "data": {
      "text/plain": [
       "timestamp\n",
       "2015-03-02     250\n",
       "2015-03-03     497\n",
       "2015-03-04     708\n",
       "2015-03-05    1205\n",
       "2015-03-06    2372\n",
       "2015-03-07    3321\n",
       "2015-03-08    4060\n",
       "2015-03-09    4291\n",
       "2015-03-10    4531\n",
       "2015-03-11    4752\n",
       "Name: test, dtype: int64"
      ]
     },
     "execution_count": 690,
     "metadata": {},
     "output_type": "execute_result"
    }
   ],
   "source": [
    "np.cumsum(df.groupby('timestamp')['test'].sum())[0:10]"
   ]
  },
  {
   "cell_type": "markdown",
   "metadata": {},
   "source": [
    "This shows that it should have taken 6 days to collect enough test samples for the power analysis."
   ]
  },
  {
   "cell_type": "markdown",
   "metadata": {},
   "source": [
    "## Sanity check of our power analysis: \n",
    "\n",
    "I estimated that it would take 6 days to collect enough data, so lets see if that is true. "
   ]
  },
  {
   "cell_type": "code",
   "execution_count": 692,
   "metadata": {},
   "outputs": [
    {
     "name": "stdout",
     "output_type": "stream",
     "text": [
      "Conversion probablity ± 95% CI:\n",
      "Control: 0.04689 ± 0.00543\n",
      "Test: 0.03914 ± 0.00719\n",
      "95% CI for expected revenue per person (ERPP):\n",
      "Control: 1.62 - 2.04\n",
      "Test: 1.89 - 2.73\n"
     ]
    },
    {
     "data": {
      "image/png": "[encoded data removed]",
      "text/plain": [
       "<Figure size 432x288 with 1 Axes>"
      ]
     },
     "metadata": {
      "needs_background": "light"
     },
     "output_type": "display_data"
    },
    {
     "data": {
      "text/plain": [
       "Ttest_indResult(statistic=2.3194783407235806, pvalue=0.020391038264615136)"
      ]
     },
     "execution_count": 692,
     "metadata": {},
     "output_type": "execute_result"
    }
   ],
   "source": [
    "df = df_clean.query(\"timestamp <= '2015-03-07' \")\n",
    "n_con = df.query('test == 0').shape[0]\n",
    "n_test = df.query('test == 1').shape[0]\n",
    "\n",
    "p_con = df.query('test == 0').converted.sum()/n_con\n",
    "p_test = df.query('test == 1').converted.sum()/n_test\n",
    "\n",
    "# Calculate 95% confidence intervals:\n",
    "n, p = n_con, p_con\n",
    "CI_con = np.sqrt((p*(1-p))/n) * 1.96\n",
    "n, p = n_test, p_con\n",
    "CI_test = np.sqrt((p*(1-p))/n) * 1.96\n",
    "\n",
    "print('Conversion probablity ± 95% CI:')\n",
    "print('Control: {:.5f} ± {:.5f}'.format(p_con, CI_con))\n",
    "print('Test: {:.5f} ± {:.5f}'.format(p_test, CI_test))\n",
    "\n",
    "# Calculate 95% confidence intervals for revenue per person:\n",
    "print('95% CI for expected revenue per person (ERPP):')\n",
    "print('Control: {:.2f} - {:.2f}'.format((p_con-CI_con)*39, (p_con+CI_con)*39) )\n",
    "print('Test: {:.2f} - {:.2f}'.format((p_test-CI_test)*59, (p_test+CI_test)*59) )\n",
    "\n",
    "plt.errorbar([0,1], [p_con*39, p_test*59],yerr=[CI_con*39, CI_test*59], marker = 'o', linestyle= '')\n",
    "plt.title('Estimated revenue per person')\n",
    "plt.ylabel('Revenue per person')\n",
    "plt.xlabel('Test')\n",
    "plt.xticks([0,1])\n",
    "plt.show()\n",
    "\n",
    "a = df.query('test == 0').converted*39\n",
    "b = df.query('test == 1').converted*59\n",
    "stats.ttest_ind(b,a)"
   ]
  },
  {
   "cell_type": "markdown",
   "metadata": {},
   "source": [
    "We can conclude at the end of 6 days that the higher price would yeild a higher revenue. The p-value is significant, but it's probably a good idea to select a lower 𝛽 value (like .05) since false negatives can be very costly. In other words, we don't want to prematurely conclude that the increased price does not negatively impact revenue. \n",
    "\n",
    "($Z_𝛽 = stats.norm.ppf(𝛽)$) \n",
    "\n",
    "\n",
    "\n",
    "For practical purposes, it's probably a good idea to run the test for at least a week so we capture all the dynamics of a typical week for the different types of users. Below, I'm showing that the new pricing has an advantage mainly on Friday and Saturday:"
   ]
  },
  {
   "cell_type": "code",
   "execution_count": 746,
   "metadata": {},
   "outputs": [
    {
     "data": {
      "image/png": "[encoded data removed]",
      "text/plain": [
       "<Figure size 432x288 with 1 Axes>"
      ]
     },
     "metadata": {
      "needs_background": "light"
     },
     "output_type": "display_data"
    }
   ],
   "source": [
    "# Add days of the week to the dataframe:\n",
    "df = df_clean.copy()\n",
    "day_of_week = pd.Series([df['timestamp'][i].dayofweek for i in range(len(df))], name = 'day')\n",
    "df = pd.concat([df, day_of_week], axis = 1)\n",
    "\n",
    "n_con = df.query('test == 0').groupby('day').count()['converted']\n",
    "p_con = (df.query('test == 0').groupby('day').sum()['converted']/n_con)\n",
    "erpp_con_day = p_con*39\n",
    "\n",
    "n_test = df.query('test == 1').groupby('day').count()['converted']\n",
    "p_test = (df.query('test == 1').groupby('day').sum()['converted']/n_test)\n",
    "erpp_test_day = p_test*59\n",
    "\n",
    "plt.plot(range(7), erpp_con_day, color = 'b', marker='.', label = 'control')\n",
    "plt.fill_between(range(7), erpp_con_day + 1.96*np.sqrt(p_con*(1-p_con)/n_con)*39, \n",
    "                 erpp_con_day - 1.96*np.sqrt(p_con*(1-p_con)/n_con)*39, alpha=.35)\n",
    "\n",
    "plt.plot(range(7), erpp_test_day, color = 'r', marker='.', label = 'test')\n",
    "plt.fill_between(range(7), erpp_test_day + 1.96*np.sqrt(p_test*(1-p_test)/n_con)*59, \n",
    "                 erpp_test_day - 1.96*np.sqrt(p_con*(1-p_test)/n_test)*59, alpha=.35)\n",
    "\n",
    "plt.title('Expected revenue vs. day of the week')\n",
    "plt.xticks(ticks = range(7), labels = ['Mon', 'Tues', 'Wed', 'Thurs', 'Fri', 'Sat', 'Sun'], rotation = 90)\n",
    "plt.legend(loc = 'lower right')\n",
    "plt.show()"
   ]
  },
  {
   "cell_type": "markdown",
   "metadata": {},
   "source": [
    "# Dashboard for the A/B test\n",
    "Lastly, when conducting the A/B test it's probably a good idea to create a dashboard to monitor the data. We can track ERPP vs. date:"
   ]
  },
  {
   "cell_type": "code",
   "execution_count": 744,
   "metadata": {},
   "outputs": [],
   "source": [
    "df = df_clean.copy()\n",
    "n_con = np.cumsum(df.query('test == 0').groupby('timestamp').count()['converted'])\n",
    "p_con = np.cumsum(df.query('test == 0').groupby('timestamp').sum()['converted'])/n_con\n",
    "erpp_con = p_con*39\n",
    "\n",
    "n_test = np.cumsum(df.query('test == 1').groupby('timestamp').count()['converted'])\n",
    "p_test = np.cumsum(df.query('test == 1').groupby('timestamp').sum()['converted'])/n_test\n",
    "erpp_test = p_test * 59 \n",
    "\n",
    "t = sorted(df['timestamp'].unique())"
   ]
  },
  {
   "cell_type": "code",
   "execution_count": 745,
   "metadata": {},
   "outputs": [
    {
     "data": {
      "image/png": "[encoded data removed]",
      "text/plain": [
       "<Figure size 576x432 with 1 Axes>"
      ]
     },
     "metadata": {
      "needs_background": "light"
     },
     "output_type": "display_data"
    }
   ],
   "source": [
    "fig, ax = plt.subplots(figsize=(8, 6))\n",
    "# Show the ERPP over the course of the A/B test\n",
    "ax.plot(t, erpp_con)\n",
    "ax.fill_between(t, erpp_con - np.sqrt(p_con*(1-p_con)/n_con)*39, erpp_con + np.sqrt(p_con*(1-p_con)/n_con)*39, alpha=0.35)\n",
    "ax.plot(t, erpp_test)\n",
    "ax.fill_between(t, erpp_test - np.sqrt(p_test*(1-p_test)/n_test)*59, erpp_test + np.sqrt(p_test*(1-p_test)/n_test)*59, alpha=0.35)\n",
    "ax.plot([t[6], t[6]], [0, 3], color = 'k', linestyle = '--')\n",
    "ax.text(t[8], 2.75, '<-- minimum length of A/B test (1 week)')\n",
    "ax.set_xticks(dates.date2num(t[0:10:3] + t[11::15]))\n",
    "plt.setp(ax.get_xticklabels(), rotation=75, ha=\"right\", rotation_mode=\"anchor\")\n",
    "ax.set_title('ERPP vs. date')\n",
    "plt.tight_layout()\n",
    "plt.show()\n",
    "\n",
    "# Show the avg ERPP for each day\n",
    "\n",
    "# ax.plot(t, p_test)\n"
   ]
  },
  {
   "cell_type": "markdown",
   "metadata": {},
   "source": [
    "This shows that over time we see clearer divergence between the two groups with smaller and smaller confidence intervals, but there are definitely diminishing returns after the dashed line at least in concluding that the test would not result in a loss in revenue."
   ]
  },
  {
   "cell_type": "markdown",
   "metadata": {},
   "source": [
    "# Other exploratory analyses"
   ]
  },
  {
   "cell_type": "markdown",
   "metadata": {},
   "source": [
    "### Location related analyses can be performed if we merge the datasets:"
   ]
  },
  {
   "cell_type": "code",
   "execution_count": 763,
   "metadata": {},
   "outputs": [
    {
     "data": {
      "text/plain": [
       "(275616, 12)"
      ]
     },
     "execution_count": 763,
     "metadata": {},
     "output_type": "execute_result"
    }
   ],
   "source": [
    "test_results = pd.read_csv('./Pricing_Test_data/test_results.csv')\n",
    "user_table= pd.read_csv('./Pricing_Test_data/user_table.csv')\n",
    "dfMerged = user_table.merge(test_results, on='user_id')\n",
    "print(dfMerged.shape)\n",
    "\n",
    "dfMerged.drop(columns = ['user_id'], inplace = True)\n",
    "dfMerged.drop_duplicates(inplace= True)\n",
    "dfMerged.reset_index(drop=True, inplace = True)\n",
    "print(dfMerged.shape)"
   ]
  },
  {
   "cell_type": "markdown",
   "metadata": {},
   "source": [
    "We can see Austin has the highest conversion rates for cities with >500/users per city:"
   ]
  },
  {
   "cell_type": "code",
   "execution_count": 834,
   "metadata": {},
   "outputs": [
    {
     "data": {
      "text/html": [
       "\n",
       "        <iframe\n",
       "            width=\"100%\"\n",
       "            height=\"475\"\n",
       "            src=\"http://localhost:40000/dtale/iframe/10\"\n",
       "            frameborder=\"0\"\n",
       "            allowfullscreen\n",
       "        ></iframe>\n",
       "        "
      ],
      "text/plain": [
       "<IPython.lib.display.IFrame at 0x147675fd0>"
      ]
     },
     "metadata": {},
     "output_type": "display_data"
    },
    {
     "data": {
      "text/plain": []
     },
     "execution_count": 834,
     "metadata": {},
     "output_type": "execute_result"
    }
   ],
   "source": [
    "n_city = pd.Series(dfMerged.groupby('city').count()['converted'], name = 'N')\n",
    "conversionRate_city = pd.Series(dfMerged.groupby('city').sum()['converted']/ n_city, name ='Conversion rate')\n",
    "conversionRate_cityDF = pd.concat([dfMerged.groupby('city').median()[['lat','long']], conversionRate_city, n_city], axis=1)\n",
    "conversionRate_cityDF.sort_values(by='Conversion rate', ascending=False, inplace=True)\n",
    "dtale.show(conversionRate_cityDF.query('N > 500'), ignore_duplicate=True)"
   ]
  },
  {
   "cell_type": "markdown",
   "metadata": {},
   "source": [
    "### Map of conversion rates\n",
    "Below is a map of conversion rates by city where we have more than 200 users/city:"
   ]
  },
  {
   "cell_type": "code",
   "execution_count": 843,
   "metadata": {},
   "outputs": [
    {
     "data": {
      "image/png": "[encoded data removed]",
      "text/plain": [
       "<Figure size 864x648 with 1 Axes>"
      ]
     },
     "metadata": {
      "needs_background": "light"
     },
     "output_type": "display_data"
    }
   ],
   "source": [
    "plt.subplots(figsize=(12,9))\n",
    "sns.scatterplot(x='long', y='lat', hue='Conversion rate', data=conversionRate_cityDF.query('N>200'))\n",
    "plt.legend(loc='lower left')\n",
    "plt.xlim([-135,-65])\n",
    "plt.ylim([20,50])\n",
    "plt.show()"
   ]
  }
 ],
 "metadata": {
  "finalized": {
   "timestamp": 1585100434080,
   "trusted": true
  },
  "kernelspec": {
   "display_name": "Python 3",
   "language": "python",
   "name": "python3"
  },
  "language_info": {
   "codemirror_mode": {
    "name": "ipython",
    "version": 3
   },
   "file_extension": ".py",
   "mimetype": "text/x-python",
   "name": "python",
   "nbconvert_exporter": "python",
   "pygments_lexer": "ipython3",
   "version": "3.6.10"
  }
 },
 "nbformat": 4,
 "nbformat_minor": 4
}
